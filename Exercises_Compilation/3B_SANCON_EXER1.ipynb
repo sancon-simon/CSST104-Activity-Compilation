{
  "nbformat": 4,
  "nbformat_minor": 0,
  "metadata": {
    "colab": {
      "provenance": []
    },
    "kernelspec": {
      "name": "python3",
      "display_name": "Python 3"
    },
    "language_info": {
      "name": "python"
    }
  },
  "cells": [
    {
      "cell_type": "markdown",
      "source": [
        "# **Exercise 1: CSST - 104 ADVANCE MACHINE LEARNING**\n",
        "**Sancon, Simon B.**\n",
        "\n",
        "**BSCS-IS-3B**"
      ],
      "metadata": {
        "id": "_YhhLNSL3A5a"
      }
    },
    {
      "cell_type": "markdown",
      "source": [
        "# **1. Importing Libraries**\n"
      ],
      "metadata": {
        "id": "qCFtyzjmMZqs"
      }
    },
    {
      "cell_type": "code",
      "execution_count": null,
      "metadata": {
        "id": "qhe5kDd9MTkR"
      },
      "outputs": [],
      "source": [
        "import pandas as pd #Data Manipulation\n",
        "import matplotlib.pyplot as plt #Data Visualization"
      ]
    },
    {
      "cell_type": "markdown",
      "source": [
        "# **2. Loading Dataset**"
      ],
      "metadata": {
        "id": "OrS1Ua1fMnLY"
      }
    },
    {
      "cell_type": "code",
      "source": [
        "data = pd.read_csv('sales_data_2.csv')"
      ],
      "metadata": {
        "id": "0Gc8P3E9MpgE"
      },
      "execution_count": null,
      "outputs": []
    },
    {
      "cell_type": "markdown",
      "source": [
        "# **3. Data Loading and Initial Analysis**"
      ],
      "metadata": {
        "id": "ZZbdaUqeNVae"
      }
    },
    {
      "cell_type": "code",
      "source": [
        "statistics = data.describe()"
      ],
      "metadata": {
        "id": "MGU9HgiqNVF_"
      },
      "execution_count": null,
      "outputs": []
    },
    {
      "cell_type": "markdown",
      "source": [
        "# **4. Data Manipulation**"
      ],
      "metadata": {
        "id": "Lj1OPlW9OYtn"
      }
    },
    {
      "cell_type": "code",
      "source": [
        "product_revenue = data.groupby('Product')['Revenue'].sum()\n",
        "highest_revenue_product = product_revenue.idxmax()\n",
        "average_quantity_per_day = data['Quantity Sold'].mean()\n",
        "print(product_revenue)"
      ],
      "metadata": {
        "id": "CkX4kenHOhXn",
        "colab": {
          "base_uri": "https://localhost:8080/"
        },
        "outputId": "1abef1f7-d099-47fb-f487-67cf2b45e52e"
      },
      "execution_count": null,
      "outputs": [
        {
          "output_type": "stream",
          "name": "stdout",
          "text": [
            "Product\n",
            "Product A    25994.33\n",
            "Product B    26707.13\n",
            "Product C    25609.46\n",
            "Name: Revenue, dtype: float64\n",
            "Product B\n"
          ]
        }
      ]
    },
    {
      "cell_type": "markdown",
      "source": [
        "# **5. Data Visualization**"
      ],
      "metadata": {
        "id": "Vmrr7MfBPhgV"
      }
    },
    {
      "cell_type": "code",
      "source": [
        "product_revenue.plot(kind = 'bar')\n",
        "plt.xlabel(\"Product\")\n",
        "plt.ylabel(\"Revenue\")\n",
        "plt.title(\"Revenue by Product\")\n",
        "plt.xticks(rotation = 45)\n",
        "plt.tight_layout()\n",
        "plt.show()"
      ],
      "metadata": {
        "colab": {
          "base_uri": "https://localhost:8080/",
          "height": 487
        },
        "id": "CaCptCoOPgkp",
        "outputId": "d85aea7b-f098-4eb8-9357-c08cf35dca54"
      },
      "execution_count": null,
      "outputs": [
        {
          "output_type": "display_data",
          "data": {
            "text/plain": [
              "<Figure size 640x480 with 1 Axes>"
            ],
            "image/png": "[encoded data removed]"
          },
          "metadata": {}
        }
      ]
    },
    {
      "cell_type": "markdown",
      "source": [
        "# **6. Analysis Report**"
      ],
      "metadata": {
        "id": "AfLGZyYMTTCE"
      }
    },
    {
      "cell_type": "code",
      "source": [
        "report = \"\"\"\n",
        "Analysis Report\n",
        "1. Data Loading and Initial Analysis:\n",
        "  Basis Statistics of the Dataset:\n",
        "  {}\n",
        "2. Data Manipulation:\n",
        "  Total Revenue for each product:\n",
        "  {}\n",
        "  Product with the highest revenue:{}\n",
        "  Average quantity sold per day: {:.2f}\n",
        "3. Data Visualization:\n",
        "  Bar char displaying revenue for each product is attached\n",
        "4. Insights:\n",
        "  The Product {} generates the highes revenue\n",
        "  On average, {:.2f} units are sold per day\n",
        "\n",
        "\"\"\". format(statistics, product_revenue, highest_revenue_product, average_quantity_per_day, highest_revenue_product, average_quantity_per_day)\n",
        "print(report)"
      ],
      "metadata": {
        "colab": {
          "base_uri": "https://localhost:8080/"
        },
        "id": "BVDDGRz2TSRH",
        "outputId": "1e148529-0b29-40f4-be3a-f20cb0d25c48"
      },
      "execution_count": null,
      "outputs": [
        {
          "output_type": "stream",
          "name": "stdout",
          "text": [
            "\n",
            "Analysis Report\n",
            "1. Data Loading and Initial Analysis:\n",
            "  Basis Statistics of the Dataset:\n",
            "         Quantity Sold     Revenue\n",
            "count     270.000000  270.000000\n",
            "mean       53.981481  290.040444\n",
            "std        26.757823  132.995783\n",
            "min        10.000000   52.950000\n",
            "25%        31.500000  171.217500\n",
            "50%        51.000000  305.190000\n",
            "75%        77.000000  398.550000\n",
            "max       100.000000  499.000000\n",
            "2. Data Manipulation:\n",
            "  Total Revenue for each product:\n",
            "  Product\n",
            "Product A    25994.33\n",
            "Product B    26707.13\n",
            "Product C    25609.46\n",
            "Name: Revenue, dtype: float64\n",
            "  Product with the highest revenue:Product B\n",
            "  Average quantity sold per day: 53.98\n",
            "3. Data Visualization:\n",
            "  Bar char displaying revenue for each product is attached\n",
            "4. Insights:\n",
            "  The Product Product B generates the highes revenue\n",
            "  On average, 53.98 units are sold per day\n",
            "\n",
            "\n"
          ]
        }
      ]
    },
    {
      "cell_type": "markdown",
      "source": [
        "# **Saving the Report to File**"
      ],
      "metadata": {
        "id": "T2PQmlT5XWQO"
      }
    },
    {
      "cell_type": "code",
      "source": [
        "with open(\"report.text\",'w')as f:\n",
        "  f.write(report)"
      ],
      "metadata": {
        "id": "fSxLHYUUWHPE"
      },
      "execution_count": null,
      "outputs": []
    }
  ]
}